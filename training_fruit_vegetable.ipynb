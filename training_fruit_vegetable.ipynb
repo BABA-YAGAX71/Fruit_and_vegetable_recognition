{
  "nbformat": 4,
  "nbformat_minor": 0,
  "metadata": {
    "colab": {
      "provenance": [],
      "gpuType": "T4"
    },
    "kernelspec": {
      "name": "python3",
      "display_name": "Python 3"
    },
    "language_info": {
      "name": "python"
    },
    "accelerator": "GPU"
  },
  "cells": [
    {
      "cell_type": "markdown",
      "source": [
        "# **importing Dataset**"
      ],
      "metadata": {
        "id": "SX6ZjR8AqZyl"
      }
    },
    {
      "cell_type": "markdown",
      "source": [],
      "metadata": {
        "id": "e_eehY9Mq8f5"
      }
    },
    {
      "cell_type": "code",
      "execution_count": 1,
      "metadata": {
        "colab": {
          "base_uri": "https://localhost:8080/"
        },
        "id": "PtR_Wt_BqOWO",
        "outputId": "e28069ee-795f-4561-c5c8-65057d5086c2"
      },
      "outputs": [
        {
          "output_type": "stream",
          "name": "stdout",
          "text": [
            "Mounted at /content/drive\n"
          ]
        }
      ],
      "source": [
        "from google.colab import drive\n",
        "drive.mount('/content/drive')"
      ]
    },
    {
      "cell_type": "markdown",
      "source": [
        "# **Importing libraries**"
      ],
      "metadata": {
        "id": "Ur8eYs2Vq-kx"
      }
    },
    {
      "cell_type": "code",
      "source": [
        "import numpy as np\n",
        "import tensorflow as tf\n",
        "import matplotlib.pyplot as plt\n",
        "import pandas as pd\n",
        "import keras"
      ],
      "metadata": {
        "id": "IRxygpnErGCe"
      },
      "execution_count": 2,
      "outputs": []
    },
    {
      "cell_type": "markdown",
      "source": [
        "# **Data pre processing**"
      ],
      "metadata": {
        "id": "Taohz4Pbscpv"
      }
    },
    {
      "cell_type": "markdown",
      "source": [
        "## **Trainging image preprocessing**"
      ],
      "metadata": {
        "id": "0jDw4j80sjd2"
      }
    },
    {
      "cell_type": "code",
      "source": [
        "training_set = tf.keras.utils.image_dataset_from_directory(\n",
        "    '/content/drive/MyDrive/fruit_and_vegetable_recognition_system/train',\n",
        "    labels = 'inferred',\n",
        "    label_mode = 'categorical',\n",
        "    batch_size = 32,\n",
        "    image_size = (64,64),\n",
        "    color_mode = 'rgb',\n",
        "    shuffle = True,\n",
        "    seed = None,\n",
        "    validation_split = None,\n",
        "    subset = None,\n",
        "    interpolation = 'bilinear',\n",
        "    follow_links = False,\n",
        "    crop_to_aspect_ratio = False\n",
        ")"
      ],
      "metadata": {
        "colab": {
          "base_uri": "https://localhost:8080/"
        },
        "id": "f6VxMMWystNd",
        "outputId": "2df806e2-3a53-4938-d3c5-110334d8501d"
      },
      "execution_count": 4,
      "outputs": [
        {
          "output_type": "stream",
          "name": "stdout",
          "text": [
            "Found 3115 files belonging to 36 classes.\n"
          ]
        }
      ]
    },
    {
      "cell_type": "markdown",
      "source": [
        "# **Validation image pre processing**"
      ],
      "metadata": {
        "id": "_l2osRghumPO"
      }
    },
    {
      "cell_type": "code",
      "source": [
        "validation_set = tf.keras.utils.image_dataset_from_directory(\n",
        "    '/content/drive/MyDrive/fruit_and_vegetable_recognition_system/validation',\n",
        "    labels = 'inferred',\n",
        "    label_mode = 'categorical',\n",
        "    batch_size = 32,\n",
        "    image_size = (64, 64),\n",
        "    color_mode = 'rgb',\n",
        "    shuffle = True,\n",
        "    seed = None,\n",
        "    validation_split = None,\n",
        "    subset = None,\n",
        "    interpolation = 'bilinear',\n",
        "    follow_links = False,\n",
        "    crop_to_aspect_ratio = False\n",
        ")"
      ],
      "metadata": {
        "colab": {
          "base_uri": "https://localhost:8080/"
        },
        "id": "t9sbi4Lduu0G",
        "outputId": "09367673-eb4b-4d84-f76a-18016761d628"
      },
      "execution_count": 5,
      "outputs": [
        {
          "output_type": "stream",
          "name": "stdout",
          "text": [
            "Found 351 files belonging to 36 classes.\n"
          ]
        }
      ]
    },
    {
      "cell_type": "markdown",
      "source": [
        "# **Model Building**"
      ],
      "metadata": {
        "id": "WPk0y1AjwQoX"
      }
    },
    {
      "cell_type": "code",
      "source": [
        "cnn = tf.keras.models.Sequential()"
      ],
      "metadata": {
        "id": "WJXFfL3YwUtP"
      },
      "execution_count": 8,
      "outputs": []
    },
    {
      "cell_type": "markdown",
      "source": [
        "#**Building convolution layer**"
      ],
      "metadata": {
        "id": "UE7zIDwTyiEf"
      }
    },
    {
      "cell_type": "code",
      "source": [
        "cnn.add(tf.keras.layers.Conv2D(filters = 32, kernel_size = 3, activation = 'relu', input_shape = [64,64,3]))\n",
        "cnn.add(tf.keras.layers.MaxPool2D(pool_size = 2, strides = 2))\n"
      ],
      "metadata": {
        "colab": {
          "base_uri": "https://localhost:8080/"
        },
        "id": "yIJ4oFW2yoF8",
        "outputId": "77190c06-27a6-4078-e0e8-5979bd4b2b3b"
      },
      "execution_count": 10,
      "outputs": [
        {
          "output_type": "stream",
          "name": "stderr",
          "text": [
            "/usr/local/lib/python3.12/dist-packages/keras/src/layers/convolutional/base_conv.py:113: UserWarning: Do not pass an `input_shape`/`input_dim` argument to a layer. When using Sequential models, prefer using an `Input(shape)` object as the first layer in the model instead.\n",
            "  super().__init__(activity_regularizer=activity_regularizer, **kwargs)\n"
          ]
        }
      ]
    },
    {
      "cell_type": "code",
      "source": [
        "cnn.add(tf.keras.layers.Conv2D(filters = 32, kernel_size = 3, activation = 'relu'))\n",
        "cnn.add(tf.keras.layers.MaxPool2D(pool_size = 2, strides = 2))"
      ],
      "metadata": {
        "id": "BrBTWO4nzKWZ"
      },
      "execution_count": 11,
      "outputs": []
    },
    {
      "cell_type": "code",
      "source": [
        "cnn.add(tf.keras.layers.Dropout(0.5)) # to avoid overfitting"
      ],
      "metadata": {
        "id": "heZ9zju7zaBa"
      },
      "execution_count": 12,
      "outputs": []
    },
    {
      "cell_type": "code",
      "source": [
        "cnn.add(tf.keras.layers.Flatten())"
      ],
      "metadata": {
        "id": "Zv0hHZPPzt_w"
      },
      "execution_count": 13,
      "outputs": []
    },
    {
      "cell_type": "code",
      "source": [
        "cnn.add(tf.keras.layers.Dense(units = 128, activation = 'relu'))"
      ],
      "metadata": {
        "id": "qzSI_arpzzxB"
      },
      "execution_count": 15,
      "outputs": []
    },
    {
      "cell_type": "markdown",
      "source": [
        "Output Layer"
      ],
      "metadata": {
        "id": "FmYyWL7F0RCX"
      }
    },
    {
      "cell_type": "code",
      "source": [
        "cnn.add(tf.keras.layers.Dense(units = 36, activation = 'softmax'))"
      ],
      "metadata": {
        "id": "-F4EmO6w0B-I"
      },
      "execution_count": 16,
      "outputs": []
    },
    {
      "cell_type": "markdown",
      "source": [
        "#**Compiling**"
      ],
      "metadata": {
        "id": "o2MqgLy40dTF"
      }
    },
    {
      "cell_type": "code",
      "source": [
        "cnn.compile(optimizer='rmsprop', loss='categorical_crossentropy', metrics=['accuracy'])"
      ],
      "metadata": {
        "id": "dFBwN9F30VUW"
      },
      "execution_count": 17,
      "outputs": []
    },
    {
      "cell_type": "code",
      "source": [
        "training_history = cnn.fit(x=training_set,validation_data=validation_set,epochs=50)"
      ],
      "metadata": {
        "colab": {
          "base_uri": "https://localhost:8080/"
        },
        "id": "n9Gaq6Lr0wxu",
        "outputId": "2468bc09-bff7-4991-84f0-f055b2721a4a"
      },
      "execution_count": 47,
      "outputs": [
        {
          "output_type": "stream",
          "name": "stdout",
          "text": [
            "Epoch 1/50\n",
            "\u001b[1m98/98\u001b[0m \u001b[32m━━━━━━━━━━━━━━━━━━━━\u001b[0m\u001b[37m\u001b[0m \u001b[1m61s\u001b[0m 626ms/step - accuracy: 0.7689 - loss: 1.1352 - val_accuracy: 0.8262 - val_loss: 1.2041\n",
            "Epoch 2/50\n",
            "\u001b[1m98/98\u001b[0m \u001b[32m━━━━━━━━━━━━━━━━━━━━\u001b[0m\u001b[37m\u001b[0m \u001b[1m85s\u001b[0m 662ms/step - accuracy: 0.7608 - loss: 1.1244 - val_accuracy: 0.9003 - val_loss: 1.1875\n",
            "Epoch 3/50\n",
            "\u001b[1m98/98\u001b[0m \u001b[32m━━━━━━━━━━━━━━━━━━━━\u001b[0m\u001b[37m\u001b[0m \u001b[1m82s\u001b[0m 663ms/step - accuracy: 0.7975 - loss: 0.8647 - val_accuracy: 0.8689 - val_loss: 1.4882\n",
            "Epoch 4/50\n",
            "\u001b[1m98/98\u001b[0m \u001b[32m━━━━━━━━━━━━━━━━━━━━\u001b[0m\u001b[37m\u001b[0m \u001b[1m65s\u001b[0m 666ms/step - accuracy: 0.7952 - loss: 1.0679 - val_accuracy: 0.8262 - val_loss: 1.5975\n",
            "Epoch 5/50\n",
            "\u001b[1m98/98\u001b[0m \u001b[32m━━━━━━━━━━━━━━━━━━━━\u001b[0m\u001b[37m\u001b[0m \u001b[1m61s\u001b[0m 620ms/step - accuracy: 0.7802 - loss: 1.1926 - val_accuracy: 0.8632 - val_loss: 1.4787\n",
            "Epoch 6/50\n",
            "\u001b[1m98/98\u001b[0m \u001b[32m━━━━━━━━━━━━━━━━━━━━\u001b[0m\u001b[37m\u001b[0m \u001b[1m64s\u001b[0m 655ms/step - accuracy: 0.8079 - loss: 0.8554 - val_accuracy: 0.9231 - val_loss: 0.9959\n",
            "Epoch 7/50\n",
            "\u001b[1m98/98\u001b[0m \u001b[32m━━━━━━━━━━━━━━━━━━━━\u001b[0m\u001b[37m\u001b[0m \u001b[1m82s\u001b[0m 654ms/step - accuracy: 0.8121 - loss: 0.7938 - val_accuracy: 0.8661 - val_loss: 1.2764\n",
            "Epoch 8/50\n",
            "\u001b[1m98/98\u001b[0m \u001b[32m━━━━━━━━━━━━━━━━━━━━\u001b[0m\u001b[37m\u001b[0m \u001b[1m80s\u001b[0m 634ms/step - accuracy: 0.8203 - loss: 0.8662 - val_accuracy: 0.9231 - val_loss: 0.9420\n",
            "Epoch 9/50\n",
            "\u001b[1m98/98\u001b[0m \u001b[32m━━━━━━━━━━━━━━━━━━━━\u001b[0m\u001b[37m\u001b[0m \u001b[1m83s\u001b[0m 654ms/step - accuracy: 0.8332 - loss: 0.8933 - val_accuracy: 0.9231 - val_loss: 1.1153\n",
            "Epoch 10/50\n",
            "\u001b[1m98/98\u001b[0m \u001b[32m━━━━━━━━━━━━━━━━━━━━\u001b[0m\u001b[37m\u001b[0m \u001b[1m65s\u001b[0m 662ms/step - accuracy: 0.8358 - loss: 0.9242 - val_accuracy: 0.9259 - val_loss: 1.0702\n",
            "Epoch 11/50\n",
            "\u001b[1m98/98\u001b[0m \u001b[32m━━━━━━━━━━━━━━━━━━━━\u001b[0m\u001b[37m\u001b[0m \u001b[1m81s\u001b[0m 657ms/step - accuracy: 0.8313 - loss: 1.0013 - val_accuracy: 0.8490 - val_loss: 1.6761\n",
            "Epoch 12/50\n",
            "\u001b[1m98/98\u001b[0m \u001b[32m━━━━━━━━━━━━━━━━━━━━\u001b[0m\u001b[37m\u001b[0m \u001b[1m61s\u001b[0m 625ms/step - accuracy: 0.8311 - loss: 0.8792 - val_accuracy: 0.9117 - val_loss: 1.3432\n",
            "Epoch 13/50\n",
            "\u001b[1m98/98\u001b[0m \u001b[32m━━━━━━━━━━━━━━━━━━━━\u001b[0m\u001b[37m\u001b[0m \u001b[1m85s\u001b[0m 656ms/step - accuracy: 0.8477 - loss: 0.6852 - val_accuracy: 0.9316 - val_loss: 1.4457\n",
            "Epoch 14/50\n",
            "\u001b[1m98/98\u001b[0m \u001b[32m━━━━━━━━━━━━━━━━━━━━\u001b[0m\u001b[37m\u001b[0m \u001b[1m61s\u001b[0m 618ms/step - accuracy: 0.8392 - loss: 0.8493 - val_accuracy: 0.9117 - val_loss: 1.1860\n",
            "Epoch 15/50\n",
            "\u001b[1m98/98\u001b[0m \u001b[32m━━━━━━━━━━━━━━━━━━━━\u001b[0m\u001b[37m\u001b[0m \u001b[1m62s\u001b[0m 639ms/step - accuracy: 0.8584 - loss: 0.7248 - val_accuracy: 0.9430 - val_loss: 1.1794\n",
            "Epoch 16/50\n",
            "\u001b[1m98/98\u001b[0m \u001b[32m━━━━━━━━━━━━━━━━━━━━\u001b[0m\u001b[37m\u001b[0m \u001b[1m83s\u001b[0m 656ms/step - accuracy: 0.8584 - loss: 0.7204 - val_accuracy: 0.9373 - val_loss: 1.1047\n",
            "Epoch 17/50\n",
            "\u001b[1m98/98\u001b[0m \u001b[32m━━━━━━━━━━━━━━━━━━━━\u001b[0m\u001b[37m\u001b[0m \u001b[1m80s\u001b[0m 631ms/step - accuracy: 0.8641 - loss: 0.8015 - val_accuracy: 0.9345 - val_loss: 1.3018\n",
            "Epoch 18/50\n",
            "\u001b[1m98/98\u001b[0m \u001b[32m━━━━━━━━━━━━━━━━━━━━\u001b[0m\u001b[37m\u001b[0m \u001b[1m64s\u001b[0m 655ms/step - accuracy: 0.8616 - loss: 0.7287 - val_accuracy: 0.9402 - val_loss: 1.0767\n",
            "Epoch 19/50\n",
            "\u001b[1m98/98\u001b[0m \u001b[32m━━━━━━━━━━━━━━━━━━━━\u001b[0m\u001b[37m\u001b[0m \u001b[1m82s\u001b[0m 653ms/step - accuracy: 0.8747 - loss: 0.7106 - val_accuracy: 0.7863 - val_loss: 3.0132\n",
            "Epoch 20/50\n",
            "\u001b[1m98/98\u001b[0m \u001b[32m━━━━━━━━━━━━━━━━━━━━\u001b[0m\u001b[37m\u001b[0m \u001b[1m64s\u001b[0m 658ms/step - accuracy: 0.8616 - loss: 0.9740 - val_accuracy: 0.9402 - val_loss: 1.1939\n",
            "Epoch 21/50\n",
            "\u001b[1m98/98\u001b[0m \u001b[32m━━━━━━━━━━━━━━━━━━━━\u001b[0m\u001b[37m\u001b[0m \u001b[1m79s\u001b[0m 619ms/step - accuracy: 0.8723 - loss: 0.8141 - val_accuracy: 0.9487 - val_loss: 1.2655\n",
            "Epoch 22/50\n",
            "\u001b[1m98/98\u001b[0m \u001b[32m━━━━━━━━━━━━━━━━━━━━\u001b[0m\u001b[37m\u001b[0m \u001b[1m63s\u001b[0m 638ms/step - accuracy: 0.8767 - loss: 0.6496 - val_accuracy: 0.9430 - val_loss: 1.5451\n",
            "Epoch 23/50\n",
            "\u001b[1m98/98\u001b[0m \u001b[32m━━━━━━━━━━━━━━━━━━━━\u001b[0m\u001b[37m\u001b[0m \u001b[1m85s\u001b[0m 674ms/step - accuracy: 0.8827 - loss: 0.7305 - val_accuracy: 0.9373 - val_loss: 1.1004\n",
            "Epoch 24/50\n",
            "\u001b[1m98/98\u001b[0m \u001b[32m━━━━━━━━━━━━━━━━━━━━\u001b[0m\u001b[37m\u001b[0m \u001b[1m80s\u001b[0m 654ms/step - accuracy: 0.8817 - loss: 0.7065 - val_accuracy: 0.9544 - val_loss: 1.2254\n",
            "Epoch 25/50\n",
            "\u001b[1m98/98\u001b[0m \u001b[32m━━━━━━━━━━━━━━━━━━━━\u001b[0m\u001b[37m\u001b[0m \u001b[1m64s\u001b[0m 645ms/step - accuracy: 0.8864 - loss: 0.6685 - val_accuracy: 0.9316 - val_loss: 1.0256\n",
            "Epoch 26/50\n",
            "\u001b[1m98/98\u001b[0m \u001b[32m━━━━━━━━━━━━━━━━━━━━\u001b[0m\u001b[37m\u001b[0m \u001b[1m65s\u001b[0m 669ms/step - accuracy: 0.8905 - loss: 0.6029 - val_accuracy: 0.9430 - val_loss: 1.1238\n",
            "Epoch 27/50\n",
            "\u001b[1m98/98\u001b[0m \u001b[32m━━━━━━━━━━━━━━━━━━━━\u001b[0m\u001b[37m\u001b[0m \u001b[1m81s\u001b[0m 658ms/step - accuracy: 0.9031 - loss: 0.5473 - val_accuracy: 0.9345 - val_loss: 1.5250\n",
            "Epoch 28/50\n",
            "\u001b[1m98/98\u001b[0m \u001b[32m━━━━━━━━━━━━━━━━━━━━\u001b[0m\u001b[37m\u001b[0m \u001b[1m60s\u001b[0m 618ms/step - accuracy: 0.9018 - loss: 0.5563 - val_accuracy: 0.9459 - val_loss: 1.2518\n",
            "Epoch 29/50\n",
            "\u001b[1m98/98\u001b[0m \u001b[32m━━━━━━━━━━━━━━━━━━━━\u001b[0m\u001b[37m\u001b[0m \u001b[1m64s\u001b[0m 654ms/step - accuracy: 0.8945 - loss: 0.6272 - val_accuracy: 0.9516 - val_loss: 1.1677\n",
            "Epoch 30/50\n",
            "\u001b[1m98/98\u001b[0m \u001b[32m━━━━━━━━━━━━━━━━━━━━\u001b[0m\u001b[37m\u001b[0m \u001b[1m66s\u001b[0m 670ms/step - accuracy: 0.9121 - loss: 0.5573 - val_accuracy: 0.9516 - val_loss: 1.2342\n",
            "Epoch 31/50\n",
            "\u001b[1m98/98\u001b[0m \u001b[32m━━━━━━━━━━━━━━━━━━━━\u001b[0m\u001b[37m\u001b[0m \u001b[1m63s\u001b[0m 645ms/step - accuracy: 0.8965 - loss: 0.5969 - val_accuracy: 0.9402 - val_loss: 1.1932\n",
            "Epoch 32/50\n",
            "\u001b[1m98/98\u001b[0m \u001b[32m━━━━━━━━━━━━━━━━━━━━\u001b[0m\u001b[37m\u001b[0m \u001b[1m63s\u001b[0m 642ms/step - accuracy: 0.8933 - loss: 0.6621 - val_accuracy: 0.9174 - val_loss: 1.5494\n",
            "Epoch 33/50\n",
            "\u001b[1m98/98\u001b[0m \u001b[32m━━━━━━━━━━━━━━━━━━━━\u001b[0m\u001b[37m\u001b[0m \u001b[1m64s\u001b[0m 653ms/step - accuracy: 0.8880 - loss: 0.6415 - val_accuracy: 0.9544 - val_loss: 1.5454\n",
            "Epoch 34/50\n",
            "\u001b[1m98/98\u001b[0m \u001b[32m━━━━━━━━━━━━━━━━━━━━\u001b[0m\u001b[37m\u001b[0m \u001b[1m66s\u001b[0m 674ms/step - accuracy: 0.9048 - loss: 0.6044 - val_accuracy: 0.9430 - val_loss: 1.7587\n",
            "Epoch 35/50\n",
            "\u001b[1m98/98\u001b[0m \u001b[32m━━━━━━━━━━━━━━━━━━━━\u001b[0m\u001b[37m\u001b[0m \u001b[1m63s\u001b[0m 642ms/step - accuracy: 0.9017 - loss: 0.7797 - val_accuracy: 0.9573 - val_loss: 1.3295\n",
            "Epoch 36/50\n",
            "\u001b[1m98/98\u001b[0m \u001b[32m━━━━━━━━━━━━━━━━━━━━\u001b[0m\u001b[37m\u001b[0m \u001b[1m64s\u001b[0m 657ms/step - accuracy: 0.9246 - loss: 0.5486 - val_accuracy: 0.9430 - val_loss: 1.2710\n",
            "Epoch 37/50\n",
            "\u001b[1m98/98\u001b[0m \u001b[32m━━━━━━━━━━━━━━━━━━━━\u001b[0m\u001b[37m\u001b[0m \u001b[1m82s\u001b[0m 657ms/step - accuracy: 0.9075 - loss: 0.5672 - val_accuracy: 0.9288 - val_loss: 1.9373\n",
            "Epoch 38/50\n",
            "\u001b[1m98/98\u001b[0m \u001b[32m━━━━━━━━━━━━━━━━━━━━\u001b[0m\u001b[37m\u001b[0m \u001b[1m62s\u001b[0m 637ms/step - accuracy: 0.9073 - loss: 0.6400 - val_accuracy: 0.9573 - val_loss: 1.4067\n",
            "Epoch 39/50\n",
            "\u001b[1m98/98\u001b[0m \u001b[32m━━━━━━━━━━━━━━━━━━━━\u001b[0m\u001b[37m\u001b[0m \u001b[1m65s\u001b[0m 669ms/step - accuracy: 0.9097 - loss: 0.6753 - val_accuracy: 0.9373 - val_loss: 1.5999\n",
            "Epoch 40/50\n",
            "\u001b[1m98/98\u001b[0m \u001b[32m━━━━━━━━━━━━━━━━━━━━\u001b[0m\u001b[37m\u001b[0m \u001b[1m82s\u001b[0m 662ms/step - accuracy: 0.9128 - loss: 0.6803 - val_accuracy: 0.8177 - val_loss: 3.1536\n",
            "Epoch 41/50\n",
            "\u001b[1m98/98\u001b[0m \u001b[32m━━━━━━━━━━━━━━━━━━━━\u001b[0m\u001b[37m\u001b[0m \u001b[1m81s\u001b[0m 646ms/step - accuracy: 0.8906 - loss: 1.0154 - val_accuracy: 0.9544 - val_loss: 1.6763\n",
            "Epoch 42/50\n",
            "\u001b[1m98/98\u001b[0m \u001b[32m━━━━━━━━━━━━━━━━━━━━\u001b[0m\u001b[37m\u001b[0m \u001b[1m80s\u001b[0m 629ms/step - accuracy: 0.9343 - loss: 0.4335 - val_accuracy: 0.8860 - val_loss: 1.9464\n",
            "Epoch 43/50\n",
            "\u001b[1m98/98\u001b[0m \u001b[32m━━━━━━━━━━━━━━━━━━━━\u001b[0m\u001b[37m\u001b[0m \u001b[1m85s\u001b[0m 665ms/step - accuracy: 0.9100 - loss: 0.7496 - val_accuracy: 0.9544 - val_loss: 1.8011\n",
            "Epoch 44/50\n",
            "\u001b[1m98/98\u001b[0m \u001b[32m━━━━━━━━━━━━━━━━━━━━\u001b[0m\u001b[37m\u001b[0m \u001b[1m67s\u001b[0m 679ms/step - accuracy: 0.9104 - loss: 0.6959 - val_accuracy: 0.9573 - val_loss: 1.4320\n",
            "Epoch 45/50\n",
            "\u001b[1m98/98\u001b[0m \u001b[32m━━━━━━━━━━━━━━━━━━━━\u001b[0m\u001b[37m\u001b[0m \u001b[1m62s\u001b[0m 633ms/step - accuracy: 0.9314 - loss: 0.4358 - val_accuracy: 0.9031 - val_loss: 1.7129\n",
            "Epoch 46/50\n",
            "\u001b[1m98/98\u001b[0m \u001b[32m━━━━━━━━━━━━━━━━━━━━\u001b[0m\u001b[37m\u001b[0m \u001b[1m81s\u001b[0m 628ms/step - accuracy: 0.8998 - loss: 0.8801 - val_accuracy: 0.9573 - val_loss: 1.4441\n",
            "Epoch 47/50\n",
            "\u001b[1m98/98\u001b[0m \u001b[32m━━━━━━━━━━━━━━━━━━━━\u001b[0m\u001b[37m\u001b[0m \u001b[1m66s\u001b[0m 676ms/step - accuracy: 0.9229 - loss: 0.5986 - val_accuracy: 0.9630 - val_loss: 1.3598\n",
            "Epoch 48/50\n",
            "\u001b[1m98/98\u001b[0m \u001b[32m━━━━━━━━━━━━━━━━━━━━\u001b[0m\u001b[37m\u001b[0m \u001b[1m79s\u001b[0m 644ms/step - accuracy: 0.9228 - loss: 0.5420 - val_accuracy: 0.9516 - val_loss: 1.8002\n",
            "Epoch 49/50\n",
            "\u001b[1m98/98\u001b[0m \u001b[32m━━━━━━━━━━━━━━━━━━━━\u001b[0m\u001b[37m\u001b[0m \u001b[1m65s\u001b[0m 659ms/step - accuracy: 0.9177 - loss: 0.5612 - val_accuracy: 0.9487 - val_loss: 1.5264\n",
            "Epoch 50/50\n",
            "\u001b[1m98/98\u001b[0m \u001b[32m━━━━━━━━━━━━━━━━━━━━\u001b[0m\u001b[37m\u001b[0m \u001b[1m83s\u001b[0m 667ms/step - accuracy: 0.9323 - loss: 0.6940 - val_accuracy: 0.9544 - val_loss: 2.1838\n"
          ]
        }
      ]
    },
    {
      "cell_type": "markdown",
      "source": [
        "#**Saving the Model**"
      ],
      "metadata": {
        "id": "6kpeJLZe1pC-"
      }
    },
    {
      "cell_type": "code",
      "source": [
        "cnn.save('trained_model.h5')"
      ],
      "metadata": {
        "colab": {
          "base_uri": "https://localhost:8080/"
        },
        "id": "MkMy31KX1tEA",
        "outputId": "5d50ed78-9e1e-43c8-b42f-4894d82edbae"
      },
      "execution_count": 48,
      "outputs": [
        {
          "output_type": "stream",
          "name": "stderr",
          "text": [
            "WARNING:absl:You are saving your model as an HDF5 file via `model.save()` or `keras.saving.save_model(model)`. This file format is considered legacy. We recommend using instead the native Keras format, e.g. `model.save('my_model.keras')` or `keras.saving.save_model(model, 'my_model.keras')`. \n"
          ]
        }
      ]
    },
    {
      "cell_type": "code",
      "source": [
        "training_history.history"
      ],
      "metadata": {
        "colab": {
          "base_uri": "https://localhost:8080/"
        },
        "id": "NqDXuo344gTI",
        "outputId": "e142c714-523b-45a7-df1a-013977e7d40a"
      },
      "execution_count": 49,
      "outputs": [
        {
          "output_type": "execute_result",
          "data": {
            "text/plain": [
              "{'accuracy': [0.7714285850524902,\n",
              "  0.7624397873878479,\n",
              "  0.7951846122741699,\n",
              "  0.7996789813041687,\n",
              "  0.7967897057533264,\n",
              "  0.8131621479988098,\n",
              "  0.8221508860588074,\n",
              "  0.8253611326217651,\n",
              "  0.8343499302864075,\n",
              "  0.8443017601966858,\n",
              "  0.8484750986099243,\n",
              "  0.8333868384361267,\n",
              "  0.8471910357475281,\n",
              "  0.8526484966278076,\n",
              "  0.8609951734542847,\n",
              "  0.8616372346878052,\n",
              "  0.8680577874183655,\n",
              "  0.869983971118927,\n",
              "  0.8712680339813232,\n",
              "  0.866131603717804,\n",
              "  0.8738362789154053,\n",
              "  0.8780096173286438,\n",
              "  0.8882824778556824,\n",
              "  0.8776885867118835,\n",
              "  0.8844301700592041,\n",
              "  0.8844301700592041,\n",
              "  0.8979133367538452,\n",
              "  0.9027287364006042,\n",
              "  0.8927769064903259,\n",
              "  0.9158908724784851,\n",
              "  0.9004815220832825,\n",
              "  0.9075441360473633,\n",
              "  0.9033707976341248,\n",
              "  0.9062600135803223,\n",
              "  0.9075441360473633,\n",
              "  0.9171749353408813,\n",
              "  0.9139646887779236,\n",
              "  0.9120385050773621,\n",
              "  0.9162119030952454,\n",
              "  0.9165329337120056,\n",
              "  0.9030497670173645,\n",
              "  0.9261637330055237,\n",
              "  0.9113964438438416,\n",
              "  0.9168539047241211,\n",
              "  0.9248796105384827,\n",
              "  0.9075441360473633,\n",
              "  0.9216693639755249,\n",
              "  0.9210273027420044,\n",
              "  0.9248796105384827,\n",
              "  0.9380417466163635],\n",
              " 'loss': [1.068505883216858,\n",
              "  1.3855371475219727,\n",
              "  0.89137202501297,\n",
              "  0.9671071767807007,\n",
              "  1.1384090185165405,\n",
              "  0.8588418364524841,\n",
              "  0.7835736870765686,\n",
              "  0.8689371347427368,\n",
              "  0.9259363412857056,\n",
              "  0.8723975419998169,\n",
              "  0.8827196955680847,\n",
              "  0.9548647999763489,\n",
              "  0.7236596941947937,\n",
              "  0.783254086971283,\n",
              "  0.7406362891197205,\n",
              "  0.7316799163818359,\n",
              "  0.7358534932136536,\n",
              "  0.6862823367118835,\n",
              "  0.7359651923179626,\n",
              "  0.8004828691482544,\n",
              "  0.8252283930778503,\n",
              "  0.7200226783752441,\n",
              "  0.6453585624694824,\n",
              "  0.7251035571098328,\n",
              "  0.712755560874939,\n",
              "  0.6693407893180847,\n",
              "  0.5984379053115845,\n",
              "  0.5726340413093567,\n",
              "  0.6441935896873474,\n",
              "  0.5907749533653259,\n",
              "  0.6088284254074097,\n",
              "  0.6130133271217346,\n",
              "  0.5669956207275391,\n",
              "  0.6268066167831421,\n",
              "  0.6770114898681641,\n",
              "  0.5632087588310242,\n",
              "  0.5280526876449585,\n",
              "  0.6230096817016602,\n",
              "  0.6193138957023621,\n",
              "  0.5996465682983398,\n",
              "  0.7973349094390869,\n",
              "  0.5478625297546387,\n",
              "  0.6883835792541504,\n",
              "  0.625488817691803,\n",
              "  0.5039222240447998,\n",
              "  0.8204484581947327,\n",
              "  0.5974292159080505,\n",
              "  0.5881543755531311,\n",
              "  0.6622341275215149,\n",
              "  0.5298558473587036],\n",
              " 'val_accuracy': [0.8262107968330383,\n",
              "  0.9002848863601685,\n",
              "  0.8689458966255188,\n",
              "  0.8262107968330383,\n",
              "  0.8632478713989258,\n",
              "  0.9230769276618958,\n",
              "  0.8660968542098999,\n",
              "  0.9230769276618958,\n",
              "  0.9230769276618958,\n",
              "  0.9259259104728699,\n",
              "  0.8490028381347656,\n",
              "  0.9116809368133545,\n",
              "  0.9316239356994629,\n",
              "  0.9116809368133545,\n",
              "  0.9430199265480042,\n",
              "  0.9373219609260559,\n",
              "  0.934472918510437,\n",
              "  0.94017094373703,\n",
              "  0.7863247990608215,\n",
              "  0.94017094373703,\n",
              "  0.9487179517745972,\n",
              "  0.9430199265480042,\n",
              "  0.9373219609260559,\n",
              "  0.9544159770011902,\n",
              "  0.9316239356994629,\n",
              "  0.9430199265480042,\n",
              "  0.934472918510437,\n",
              "  0.945868968963623,\n",
              "  0.9515669345855713,\n",
              "  0.9515669345855713,\n",
              "  0.94017094373703,\n",
              "  0.9173789024353027,\n",
              "  0.9544159770011902,\n",
              "  0.9430199265480042,\n",
              "  0.9572649598121643,\n",
              "  0.9430199265480042,\n",
              "  0.9287749528884888,\n",
              "  0.9572649598121643,\n",
              "  0.9373219609260559,\n",
              "  0.8176637887954712,\n",
              "  0.9544159770011902,\n",
              "  0.8860399127006531,\n",
              "  0.9544159770011902,\n",
              "  0.9572649598121643,\n",
              "  0.9031339287757874,\n",
              "  0.9572649598121643,\n",
              "  0.9629629850387573,\n",
              "  0.9515669345855713,\n",
              "  0.9487179517745972,\n",
              "  0.9544159770011902],\n",
              " 'val_loss': [1.2041090726852417,\n",
              "  1.187526822090149,\n",
              "  1.488150715827942,\n",
              "  1.59745192527771,\n",
              "  1.478670597076416,\n",
              "  0.995941698551178,\n",
              "  1.2763915061950684,\n",
              "  0.9420129656791687,\n",
              "  1.1153303384780884,\n",
              "  1.0701817274093628,\n",
              "  1.676140546798706,\n",
              "  1.3432409763336182,\n",
              "  1.4457463026046753,\n",
              "  1.1859846115112305,\n",
              "  1.1794031858444214,\n",
              "  1.1047178506851196,\n",
              "  1.301810383796692,\n",
              "  1.076745867729187,\n",
              "  3.0132336616516113,\n",
              "  1.1939244270324707,\n",
              "  1.2654788494110107,\n",
              "  1.5451164245605469,\n",
              "  1.1004236936569214,\n",
              "  1.2254146337509155,\n",
              "  1.0255612134933472,\n",
              "  1.1237863302230835,\n",
              "  1.5249615907669067,\n",
              "  1.2517833709716797,\n",
              "  1.1676666736602783,\n",
              "  1.2342042922973633,\n",
              "  1.1931613683700562,\n",
              "  1.54938542842865,\n",
              "  1.545432448387146,\n",
              "  1.7586909532546997,\n",
              "  1.3295478820800781,\n",
              "  1.2710362672805786,\n",
              "  1.9372718334197998,\n",
              "  1.4067082405090332,\n",
              "  1.5999258756637573,\n",
              "  3.1535725593566895,\n",
              "  1.676323652267456,\n",
              "  1.9464199542999268,\n",
              "  1.8010690212249756,\n",
              "  1.4319921731948853,\n",
              "  1.7129257917404175,\n",
              "  1.4440538883209229,\n",
              "  1.3598283529281616,\n",
              "  1.8001819849014282,\n",
              "  1.5264036655426025,\n",
              "  2.183835983276367]}"
            ]
          },
          "metadata": {},
          "execution_count": 49
        }
      ]
    },
    {
      "cell_type": "code",
      "source": [
        "#Recording history in json\n",
        "import json\n",
        "with open ('training_hist.json','w') as f:\n",
        "  json.dump(training_history.history,f)"
      ],
      "metadata": {
        "id": "znKPpsHv4HuI"
      },
      "execution_count": 50,
      "outputs": []
    },
    {
      "cell_type": "code",
      "source": [
        "print(training_history.history.keys())"
      ],
      "metadata": {
        "colab": {
          "base_uri": "https://localhost:8080/"
        },
        "id": "9AZmwe4P44-e",
        "outputId": "7673c623-73c9-42fe-fa5d-0c5681fbfea9"
      },
      "execution_count": 51,
      "outputs": [
        {
          "output_type": "stream",
          "name": "stdout",
          "text": [
            "dict_keys(['accuracy', 'loss', 'val_accuracy', 'val_loss'])\n"
          ]
        }
      ]
    },
    {
      "cell_type": "markdown",
      "source": [
        "#**Calculating Accuracy of Model achieved on Validation set**"
      ],
      "metadata": {
        "id": "OHgDjgtY5H1a"
      }
    },
    {
      "cell_type": "code",
      "source": [
        "print(\"validation set accuracy: {} %\".format(training_history.history['val_accuracy'][-1]*100))"
      ],
      "metadata": {
        "colab": {
          "base_uri": "https://localhost:8080/"
        },
        "id": "I3P0LXlg5NBu",
        "outputId": "f69ce534-3747-4ebe-c280-b694d9d19905"
      },
      "execution_count": 52,
      "outputs": [
        {
          "output_type": "stream",
          "name": "stdout",
          "text": [
            "validation set accuracy: 95.44159770011902 %\n"
          ]
        }
      ]
    },
    {
      "cell_type": "markdown",
      "source": [
        "#**Accuracy visualization**"
      ],
      "metadata": {
        "id": "QSKp3LzU65xz"
      }
    },
    {
      "cell_type": "markdown",
      "source": [
        "Training visualization"
      ],
      "metadata": {
        "id": "5rDqPR0d6_Cn"
      }
    },
    {
      "cell_type": "code",
      "source": [
        "training_history.history['accuracy']"
      ],
      "metadata": {
        "colab": {
          "base_uri": "https://localhost:8080/"
        },
        "id": "s82dEbsf8M7m",
        "outputId": "897b6766-3353-4249-dc7c-2fb2d68cea5d"
      },
      "execution_count": 53,
      "outputs": [
        {
          "output_type": "execute_result",
          "data": {
            "text/plain": [
              "[0.7714285850524902,\n",
              " 0.7624397873878479,\n",
              " 0.7951846122741699,\n",
              " 0.7996789813041687,\n",
              " 0.7967897057533264,\n",
              " 0.8131621479988098,\n",
              " 0.8221508860588074,\n",
              " 0.8253611326217651,\n",
              " 0.8343499302864075,\n",
              " 0.8443017601966858,\n",
              " 0.8484750986099243,\n",
              " 0.8333868384361267,\n",
              " 0.8471910357475281,\n",
              " 0.8526484966278076,\n",
              " 0.8609951734542847,\n",
              " 0.8616372346878052,\n",
              " 0.8680577874183655,\n",
              " 0.869983971118927,\n",
              " 0.8712680339813232,\n",
              " 0.866131603717804,\n",
              " 0.8738362789154053,\n",
              " 0.8780096173286438,\n",
              " 0.8882824778556824,\n",
              " 0.8776885867118835,\n",
              " 0.8844301700592041,\n",
              " 0.8844301700592041,\n",
              " 0.8979133367538452,\n",
              " 0.9027287364006042,\n",
              " 0.8927769064903259,\n",
              " 0.9158908724784851,\n",
              " 0.9004815220832825,\n",
              " 0.9075441360473633,\n",
              " 0.9033707976341248,\n",
              " 0.9062600135803223,\n",
              " 0.9075441360473633,\n",
              " 0.9171749353408813,\n",
              " 0.9139646887779236,\n",
              " 0.9120385050773621,\n",
              " 0.9162119030952454,\n",
              " 0.9165329337120056,\n",
              " 0.9030497670173645,\n",
              " 0.9261637330055237,\n",
              " 0.9113964438438416,\n",
              " 0.9168539047241211,\n",
              " 0.9248796105384827,\n",
              " 0.9075441360473633,\n",
              " 0.9216693639755249,\n",
              " 0.9210273027420044,\n",
              " 0.9248796105384827,\n",
              " 0.9380417466163635]"
            ]
          },
          "metadata": {},
          "execution_count": 53
        }
      ]
    },
    {
      "cell_type": "code",
      "source": [
        "epochs = [i for i in range(1, len(training_history.history['accuracy']) + 1)]\n",
        "plt.plot(epochs,training_history.history['accuracy'], color = 'green')\n",
        "plt.title('Visualization of training accuracy result')\n",
        "plt.xlabel('NO. of Epochs')\n",
        "plt.ylabel('Training Accuracy')\n",
        "plt.show()"
      ],
      "metadata": {
        "colab": {
          "base_uri": "https://localhost:8080/",
          "height": 472
        },
        "id": "JBiJZKF26oFk",
        "outputId": "c34f4ef4-5cb7-43b6-89a8-694521e4df7f"
      },
      "execution_count": 54,
      "outputs": [
        {
          "output_type": "display_data",
          "data": {
            "text/plain": [
              "<Figure size 640x480 with 1 Axes>"
            ],
            "image/png": "[encoded data removed]"
          },
          "metadata": {}
        }
      ]
    },
    {
      "cell_type": "markdown",
      "source": [
        "#**Validation accuracy**"
      ],
      "metadata": {
        "id": "cfFDzDa19AMH"
      }
    },
    {
      "cell_type": "code",
      "source": [
        "plt.plot(epochs,training_history.history['val_accuracy'], color = 'blue')\n",
        "plt.title('Visualization of validation accuracy result')\n",
        "plt.xlabel('NO. of Epochs')\n",
        "plt.ylabel('Validation Accuracy')\n",
        "plt.show()\n",
        "#"
      ],
      "metadata": {
        "colab": {
          "base_uri": "https://localhost:8080/",
          "height": 472
        },
        "id": "3z9hwlxr7Niu",
        "outputId": "f00c68c4-45ff-45aa-b2e3-bcd685049f06"
      },
      "execution_count": 55,
      "outputs": [
        {
          "output_type": "display_data",
          "data": {
            "text/plain": [
              "<Figure size 640x480 with 1 Axes>"
            ],
            "image/png": "[encoded data removed]"
          },
          "metadata": {}
        }
      ]
    }
  ]
}